{
 "cells": [
  {
   "cell_type": "code",
   "execution_count": null,
   "id": "8b716c5e-00da-4639-9b89-66774d0b47c6",
   "metadata": {},
   "outputs": [],
   "source": []
  }
 ],
 "metadata": {
  "kernelspec": {
   "display_name": "",
   "name": ""
  },
  "language_info": {
   "name": ""
  }
 },
 "nbformat": 4,
 "nbformat_minor": 5
}
